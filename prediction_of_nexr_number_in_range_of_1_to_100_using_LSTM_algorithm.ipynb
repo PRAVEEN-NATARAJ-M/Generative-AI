{
  "nbformat": 4,
  "nbformat_minor": 0,
  "metadata": {
    "colab": {
      "provenance": []
    },
    "kernelspec": {
      "name": "python3",
      "display_name": "Python 3"
    },
    "language_info": {
      "name": "python"
    }
  },
  "cells": [
    {
      "cell_type": "code",
      "execution_count": 1,
      "metadata": {
        "id": "yr29TZ6Z9H27"
      },
      "outputs": [],
      "source": [
        "import numpy as np\n",
        "from tensorflow.keras.models import Sequential\n",
        "from tensorflow.keras.layers import LSTM,Dense\n",
        "import matplotlib.pyplot as plt"
      ]
    },
    {
      "cell_type": "code",
      "source": [
        "sequence = np.array([i for i in range(1,101)])"
      ],
      "metadata": {
        "id": "LrnV0gwK-kna"
      },
      "execution_count": 2,
      "outputs": []
    },
    {
      "cell_type": "code",
      "source": [
        "window_size=3\n",
        "x=[]\n",
        "y=[]\n",
        "for i in range(len(sequence)-window_size):\n",
        "    x.append(sequence[i:i+window_size])\n",
        "    y.append(sequence[i+window_size])"
      ],
      "metadata": {
        "id": "BsUmi033-5fO"
      },
      "execution_count": 3,
      "outputs": []
    },
    {
      "cell_type": "code",
      "source": [
        "x=np.array(x)\n",
        "y=np.array(y)"
      ],
      "metadata": {
        "id": "yUZZVeUX__pL"
      },
      "execution_count": 4,
      "outputs": []
    },
    {
      "cell_type": "code",
      "source": [
        "x=x.reshape((x.shape[0],x.shape[1],1))"
      ],
      "metadata": {
        "id": "qmyqmeqdAJ72"
      },
      "execution_count": 5,
      "outputs": []
    },
    {
      "cell_type": "code",
      "source": [
        "model=Sequential()\n",
        "model.add(LSTM(50,activation='relu',input_shape=(window_size,1)))\n",
        "model.add(Dense(units=1))\n",
        "model.compile(optimizer='adam',loss='mean_squared_error')"
      ],
      "metadata": {
        "colab": {
          "base_uri": "https://localhost:8080/"
        },
        "id": "C283FwDFAcv9",
        "outputId": "b2826689-46e2-47bd-e6e0-98e1115e693d"
      },
      "execution_count": 6,
      "outputs": [
        {
          "output_type": "stream",
          "name": "stderr",
          "text": [
            "/usr/local/lib/python3.11/dist-packages/keras/src/layers/rnn/rnn.py:200: UserWarning: Do not pass an `input_shape`/`input_dim` argument to a layer. When using Sequential models, prefer using an `Input(shape)` object as the first layer in the model instead.\n",
            "  super().__init__(**kwargs)\n"
          ]
        }
      ]
    },
    {
      "cell_type": "code",
      "source": [
        "model.fit(x,y,epochs=200,verbose=0)"
      ],
      "metadata": {
        "colab": {
          "base_uri": "https://localhost:8080/"
        },
        "id": "SyBfTp3uA_3C",
        "outputId": "03e83b93-a00a-4d90-e998-81da41b58945"
      },
      "execution_count": 7,
      "outputs": [
        {
          "output_type": "execute_result",
          "data": {
            "text/plain": [
              "<keras.src.callbacks.history.History at 0x7ebb84d41090>"
            ]
          },
          "metadata": {},
          "execution_count": 7
        }
      ]
    },
    {
      "cell_type": "code",
      "source": [
        "model.save('prediction of nexr number in range of 1 to 100 using LSTM algorithm.h5')"
      ],
      "metadata": {
        "colab": {
          "base_uri": "https://localhost:8080/"
        },
        "id": "VobRGjcKKoSF",
        "outputId": "67a96283-e734-4272-a16c-dab3f01af7c3"
      },
      "execution_count": 8,
      "outputs": [
        {
          "output_type": "stream",
          "name": "stderr",
          "text": [
            "WARNING:absl:You are saving your model as an HDF5 file via `model.save()` or `keras.saving.save_model(model)`. This file format is considered legacy. We recommend using instead the native Keras format, e.g. `model.save('my_model.keras')` or `keras.saving.save_model(model, 'my_model.keras')`. \n"
          ]
        }
      ]
    },
    {
      "cell_type": "code",
      "source": [
        "from keras.models import load_model\n",
        "model = load_model('prediction of nexr number in range of 1 to 100 using LSTM algorithm.h5')  # Update path if uploaded elsewhere\n",
        "print(\"✅ Model loaded successfully!\")"
      ],
      "metadata": {
        "colab": {
          "base_uri": "https://localhost:8080/"
        },
        "id": "QHfLAd6zo_S1",
        "outputId": "34595a8d-3239-472f-8934-ca13da4408e4"
      },
      "execution_count": 9,
      "outputs": [
        {
          "output_type": "stream",
          "name": "stderr",
          "text": [
            "WARNING:absl:Compiled the loaded model, but the compiled metrics have yet to be built. `model.compile_metrics` will be empty until you train or evaluate the model.\n"
          ]
        },
        {
          "output_type": "stream",
          "name": "stdout",
          "text": [
            "✅ Model loaded successfully!\n"
          ]
        }
      ]
    },
    {
      "cell_type": "code",
      "source": [
        "test_input=np.array([88,89,90])\n",
        "test_input=test_input.reshape((1,window_size,1))\n",
        "predicted_model= model.predict(test_input,verbose=0)\n",
        "print(predicted_model)"
      ],
      "metadata": {
        "colab": {
          "base_uri": "https://localhost:8080/"
        },
        "id": "kaL4o1xUCMnm",
        "outputId": "b9a9ac78-e032-4324-bcc2-c1f35c899efa"
      },
      "execution_count": 10,
      "outputs": [
        {
          "output_type": "stream",
          "name": "stdout",
          "text": [
            "[[91.04428]]\n"
          ]
        }
      ]
    },
    {
      "cell_type": "code",
      "source": [
        "y_pred=model.predict(x)\n",
        "print(y_pred)"
      ],
      "metadata": {
        "colab": {
          "base_uri": "https://localhost:8080/"
        },
        "id": "luApvuzCBUnr",
        "outputId": "1b3b65dc-bb38-4fcf-d638-d53e0caf24e9"
      },
      "execution_count": 11,
      "outputs": [
        {
          "output_type": "stream",
          "name": "stdout",
          "text": [
            "\u001b[1m4/4\u001b[0m \u001b[32m━━━━━━━━━━━━━━━━━━━━\u001b[0m\u001b[37m\u001b[0m \u001b[1m0s\u001b[0m 8ms/step  \n",
            "[[  2.780616 ]\n",
            " [  4.207179 ]\n",
            " [  5.6616187]\n",
            " [  7.0480824]\n",
            " [  8.315685 ]\n",
            " [  9.454376 ]\n",
            " [ 10.482425 ]\n",
            " [ 11.432903 ]\n",
            " [ 12.340269 ]\n",
            " [ 13.232518 ]\n",
            " [ 14.128822 ]\n",
            " [ 15.040134 ]\n",
            " [ 15.971178 ]\n",
            " [ 16.922556 ]\n",
            " [ 17.892328 ]\n",
            " [ 18.877766 ]\n",
            " [ 19.87561  ]\n",
            " [ 20.882696 ]\n",
            " [ 21.896847 ]\n",
            " [ 22.915264 ]\n",
            " [ 23.93576  ]\n",
            " [ 24.956842 ]\n",
            " [ 25.97739  ]\n",
            " [ 26.996603 ]\n",
            " [ 28.013945 ]\n",
            " [ 29.029081 ]\n",
            " [ 30.04185  ]\n",
            " [ 31.05221  ]\n",
            " [ 32.060215 ]\n",
            " [ 33.065987 ]\n",
            " [ 34.06969  ]\n",
            " [ 35.071526 ]\n",
            " [ 36.071705 ]\n",
            " [ 37.07045  ]\n",
            " [ 38.06798  ]\n",
            " [ 39.064514 ]\n",
            " [ 40.060253 ]\n",
            " [ 41.055386 ]\n",
            " [ 42.050102 ]\n",
            " [ 43.044537 ]\n",
            " [ 44.03884  ]\n",
            " [ 45.03315  ]\n",
            " [ 46.027565 ]\n",
            " [ 47.02218  ]\n",
            " [ 48.01707  ]\n",
            " [ 49.012302 ]\n",
            " [ 50.00793  ]\n",
            " [ 51.003998 ]\n",
            " [ 52.000526 ]\n",
            " [ 52.99753  ]\n",
            " [ 53.99503  ]\n",
            " [ 54.99303  ]\n",
            " [ 55.991528 ]\n",
            " [ 56.990513 ]\n",
            " [ 57.989952 ]\n",
            " [ 58.989853 ]\n",
            " [ 59.990166 ]\n",
            " [ 60.99088  ]\n",
            " [ 61.991947 ]\n",
            " [ 62.99337  ]\n",
            " [ 63.995087 ]\n",
            " [ 64.99709  ]\n",
            " [ 65.99931  ]\n",
            " [ 67.001755 ]\n",
            " [ 68.00437  ]\n",
            " [ 69.00712  ]\n",
            " [ 70.00997  ]\n",
            " [ 71.01289  ]\n",
            " [ 72.01586  ]\n",
            " [ 73.01883  ]\n",
            " [ 74.02178  ]\n",
            " [ 75.02467  ]\n",
            " [ 76.02748  ]\n",
            " [ 77.03019  ]\n",
            " [ 78.03276  ]\n",
            " [ 79.03517  ]\n",
            " [ 80.0374   ]\n",
            " [ 81.03943  ]\n",
            " [ 82.04122  ]\n",
            " [ 83.04275  ]\n",
            " [ 84.044044 ]\n",
            " [ 85.045044 ]\n",
            " [ 86.045746 ]\n",
            " [ 87.046135 ]\n",
            " [ 88.046196 ]\n",
            " [ 89.04591  ]\n",
            " [ 90.04528  ]\n",
            " [ 91.0443   ]\n",
            " [ 92.042915 ]\n",
            " [ 93.04117  ]\n",
            " [ 94.03902  ]\n",
            " [ 95.03648  ]\n",
            " [ 96.03354  ]\n",
            " [ 97.030174 ]\n",
            " [ 98.026405 ]\n",
            " [ 99.02222  ]\n",
            " [100.017624 ]]\n"
          ]
        }
      ]
    },
    {
      "cell_type": "code",
      "source": [
        "plt.figure(figsize=(10,5))\n",
        "plt.plot(range(window_size,len(sequence)),y,label='actual')\n",
        "plt.plot(range(window_size,len(sequence)),y_pred.flatten(),label='predicted',linestyle='--')\n",
        "plt.title('time series prediction')\n",
        "plt.xlabel('time stamp')\n",
        "plt.ylabel('value')\n",
        "plt.legend()\n",
        "plt.grid(True)\n",
        "plt.show()"
      ],
      "metadata": {
        "colab": {
          "base_uri": "https://localhost:8080/",
          "height": 487
        },
        "id": "BWLvfhPIBgn5",
        "outputId": "24b93d11-8c2d-4141-84ae-b133e926ec67"
      },
      "execution_count": 12,
      "outputs": [
        {
          "output_type": "display_data",
          "data": {
            "text/plain": [
              "<Figure size 1000x500 with 1 Axes>"
            ],
            "image/png": "[encoded data removed]"
          },
          "metadata": {}
        }
      ]
    }
  ]
}