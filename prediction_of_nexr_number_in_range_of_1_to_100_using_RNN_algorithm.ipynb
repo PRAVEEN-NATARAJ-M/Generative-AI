{
  "nbformat": 4,
  "nbformat_minor": 0,
  "metadata": {
    "colab": {
      "provenance": []
    },
    "kernelspec": {
      "name": "python3",
      "display_name": "Python 3"
    },
    "language_info": {
      "name": "python"
    }
  },
  "cells": [
    {
      "cell_type": "code",
      "execution_count": 3,
      "metadata": {
        "id": "yr29TZ6Z9H27"
      },
      "outputs": [],
      "source": [
        "import numpy as np\n",
        "from tensorflow.keras.models import Sequential\n",
        "from tensorflow.keras.layers import SimpleRNN,Dense\n",
        "import matplotlib.pyplot as plt"
      ]
    },
    {
      "cell_type": "code",
      "source": [
        "sequence = np.array([i for i in range(1,101)])"
      ],
      "metadata": {
        "id": "LrnV0gwK-kna"
      },
      "execution_count": 4,
      "outputs": []
    },
    {
      "cell_type": "code",
      "source": [
        "window_size=3\n",
        "x=[]\n",
        "y=[]\n",
        "for i in range(len(sequence)-window_size):\n",
        "    x.append(sequence[i:i+window_size])\n",
        "    y.append(sequence[i+window_size])"
      ],
      "metadata": {
        "id": "BsUmi033-5fO"
      },
      "execution_count": 5,
      "outputs": []
    },
    {
      "cell_type": "code",
      "source": [
        "x=np.array(x)\n",
        "y=np.array(y)"
      ],
      "metadata": {
        "id": "yUZZVeUX__pL"
      },
      "execution_count": 6,
      "outputs": []
    },
    {
      "cell_type": "code",
      "source": [
        "x=x.reshape((x.shape[0],x.shape[1],1))"
      ],
      "metadata": {
        "id": "qmyqmeqdAJ72"
      },
      "execution_count": 7,
      "outputs": []
    },
    {
      "cell_type": "code",
      "source": [
        "model=Sequential()\n",
        "model.add(SimpleRNN(50,activation='relu',input_shape=(window_size,1)))\n",
        "model.add(Dense(units=1))\n",
        "model.compile(optimizer='adam',loss='mean_squared_error')"
      ],
      "metadata": {
        "colab": {
          "base_uri": "https://localhost:8080/"
        },
        "id": "C283FwDFAcv9",
        "outputId": "51868671-3181-4bb1-81b4-732914812e54"
      },
      "execution_count": 9,
      "outputs": [
        {
          "output_type": "stream",
          "name": "stderr",
          "text": [
            "/usr/local/lib/python3.11/dist-packages/keras/src/layers/rnn/rnn.py:200: UserWarning: Do not pass an `input_shape`/`input_dim` argument to a layer. When using Sequential models, prefer using an `Input(shape)` object as the first layer in the model instead.\n",
            "  super().__init__(**kwargs)\n"
          ]
        }
      ]
    },
    {
      "cell_type": "code",
      "source": [
        "model.fit(x,y,epochs=200,verbose=0)"
      ],
      "metadata": {
        "colab": {
          "base_uri": "https://localhost:8080/"
        },
        "id": "SyBfTp3uA_3C",
        "outputId": "c7cb5b34-cf89-4661-b9bd-f5158a11961b"
      },
      "execution_count": 10,
      "outputs": [
        {
          "output_type": "execute_result",
          "data": {
            "text/plain": [
              "<keras.src.callbacks.history.History at 0x78e8286b0cd0>"
            ]
          },
          "metadata": {},
          "execution_count": 10
        }
      ]
    },
    {
      "cell_type": "code",
      "source": [
        "model.save('prediction of nexr number in range of 1 to 100 using RNN algorithm.h5')\n",
        "model.save('prediction of nexr number in range of 1 to 100 using RNN algorithm.keras')\n",
        "'''model.save('prediction of nexr number in range of 1 to 100 using RNN algorithm.pkl')'''"
      ],
      "metadata": {
        "colab": {
          "base_uri": "https://localhost:8080/",
          "height": 75
        },
        "id": "nleIVAoTNYpm",
        "outputId": "155f5a1e-4796-43fb-f855-b1be053f7267"
      },
      "execution_count": 27,
      "outputs": [
        {
          "output_type": "stream",
          "name": "stderr",
          "text": [
            "WARNING:absl:You are saving your model as an HDF5 file via `model.save()` or `keras.saving.save_model(model)`. This file format is considered legacy. We recommend using instead the native Keras format, e.g. `model.save('my_model.keras')` or `keras.saving.save_model(model, 'my_model.keras')`. \n"
          ]
        },
        {
          "output_type": "execute_result",
          "data": {
            "text/plain": [
              "\"model.save('prediction of nexr number in range of 1 to 100 using RNN algorithm.pkl')\""
            ],
            "application/vnd.google.colaboratory.intrinsic+json": {
              "type": "string"
            }
          },
          "metadata": {},
          "execution_count": 27
        }
      ]
    },
    {
      "cell_type": "code",
      "source": [
        "from keras.models import load_model\n",
        "model = load_model('/content/prediction of nexr number in range of 1 to 100 using RNN algorithm.h5')  # Update path if uploaded elsewhere\n",
        "print(\"✅ Model loaded successfully!\")"
      ],
      "metadata": {
        "colab": {
          "base_uri": "https://localhost:8080/"
        },
        "id": "MwbrI49glN1c",
        "outputId": "200d6f4a-9457-4dcb-fd87-719b0b7cdf09"
      },
      "execution_count": 28,
      "outputs": [
        {
          "output_type": "stream",
          "name": "stderr",
          "text": [
            "WARNING:absl:Compiled the loaded model, but the compiled metrics have yet to be built. `model.compile_metrics` will be empty until you train or evaluate the model.\n"
          ]
        },
        {
          "output_type": "stream",
          "name": "stdout",
          "text": [
            "✅ Model loaded successfully!\n"
          ]
        }
      ]
    },
    {
      "cell_type": "code",
      "source": [
        "test_input=np.array([96,97,98])\n",
        "test_input=test_input.reshape((1,window_size,1))\n",
        "predicted_model= model.predict(test_input,verbose=0)\n",
        "print(predicted_model)"
      ],
      "metadata": {
        "colab": {
          "base_uri": "https://localhost:8080/"
        },
        "id": "kaL4o1xUCMnm",
        "outputId": "47ea7c25-940b-4349-906b-a8aaa57ec379"
      },
      "execution_count": 29,
      "outputs": [
        {
          "output_type": "stream",
          "name": "stdout",
          "text": [
            "[[99.33571]]\n"
          ]
        }
      ]
    },
    {
      "cell_type": "code",
      "source": [
        "y_pred=model.predict(x)\n",
        "print(y_pred)"
      ],
      "metadata": {
        "colab": {
          "base_uri": "https://localhost:8080/"
        },
        "id": "luApvuzCBUnr",
        "outputId": "5d14d7eb-35a0-4dd9-e46b-3a5bd69116eb"
      },
      "execution_count": 30,
      "outputs": [
        {
          "output_type": "stream",
          "name": "stderr",
          "text": [
            "WARNING:tensorflow:5 out of the last 17 calls to <function TensorFlowTrainer.make_predict_function.<locals>.one_step_on_data_distributed at 0x78e81eec0ae0> triggered tf.function retracing. Tracing is expensive and the excessive number of tracings could be due to (1) creating @tf.function repeatedly in a loop, (2) passing tensors with different shapes, (3) passing Python objects instead of tensors. For (1), please define your @tf.function outside of the loop. For (2), @tf.function has reduce_retracing=True option that can avoid unnecessary retracing. For (3), please refer to https://www.tensorflow.org/guide/function#controlling_retracing and https://www.tensorflow.org/api_docs/python/tf/function for  more details.\n"
          ]
        },
        {
          "output_type": "stream",
          "name": "stdout",
          "text": [
            "\u001b[1m4/4\u001b[0m \u001b[32m━━━━━━━━━━━━━━━━━━━━\u001b[0m\u001b[37m\u001b[0m \u001b[1m0s\u001b[0m 9ms/step  \n",
            "[[  2.9952087]\n",
            " [  4.0732546]\n",
            " [  5.1447525]\n",
            " [  6.1891103]\n",
            " [  7.2159896]\n",
            " [  8.241519 ]\n",
            " [  9.252517 ]\n",
            " [ 10.263515 ]\n",
            " [ 11.277202 ]\n",
            " [ 12.297043 ]\n",
            " [ 13.31054  ]\n",
            " [ 14.322395 ]\n",
            " [ 15.334252 ]\n",
            " [ 16.346106 ]\n",
            " [ 17.357962 ]\n",
            " [ 18.369816 ]\n",
            " [ 19.38167  ]\n",
            " [ 20.393528 ]\n",
            " [ 21.405382 ]\n",
            " [ 22.417236 ]\n",
            " [ 23.429087 ]\n",
            " [ 24.440947 ]\n",
            " [ 25.4528   ]\n",
            " [ 26.464655 ]\n",
            " [ 27.47651  ]\n",
            " [ 28.488365 ]\n",
            " [ 29.500221 ]\n",
            " [ 30.512075 ]\n",
            " [ 31.52393  ]\n",
            " [ 32.53579  ]\n",
            " [ 33.54764  ]\n",
            " [ 34.559494 ]\n",
            " [ 35.571354 ]\n",
            " [ 36.583206 ]\n",
            " [ 37.59506  ]\n",
            " [ 38.60691  ]\n",
            " [ 39.61877  ]\n",
            " [ 40.63063  ]\n",
            " [ 41.642483 ]\n",
            " [ 42.654335 ]\n",
            " [ 43.666195 ]\n",
            " [ 44.678043 ]\n",
            " [ 45.689903 ]\n",
            " [ 46.701756 ]\n",
            " [ 47.713608 ]\n",
            " [ 48.725468 ]\n",
            " [ 49.73732  ]\n",
            " [ 50.749176 ]\n",
            " [ 51.761032 ]\n",
            " [ 52.772884 ]\n",
            " [ 53.784737 ]\n",
            " [ 54.796597 ]\n",
            " [ 55.80845  ]\n",
            " [ 56.820312 ]\n",
            " [ 57.832165 ]\n",
            " [ 58.844013 ]\n",
            " [ 59.85587  ]\n",
            " [ 60.867725 ]\n",
            " [ 61.87958  ]\n",
            " [ 62.891438 ]\n",
            " [ 63.903294 ]\n",
            " [ 64.915146 ]\n",
            " [ 65.926994 ]\n",
            " [ 66.93885  ]\n",
            " [ 67.95071  ]\n",
            " [ 68.96256  ]\n",
            " [ 69.97442  ]\n",
            " [ 70.98626  ]\n",
            " [ 71.99812  ]\n",
            " [ 73.00998  ]\n",
            " [ 74.021835 ]\n",
            " [ 75.03369  ]\n",
            " [ 76.04555  ]\n",
            " [ 77.057396 ]\n",
            " [ 78.06926  ]\n",
            " [ 79.08111  ]\n",
            " [ 80.09297  ]\n",
            " [ 81.10482  ]\n",
            " [ 82.11668  ]\n",
            " [ 83.128525 ]\n",
            " [ 84.14037  ]\n",
            " [ 85.15224  ]\n",
            " [ 86.16409  ]\n",
            " [ 87.17596  ]\n",
            " [ 88.1878   ]\n",
            " [ 89.19966  ]\n",
            " [ 90.21152  ]\n",
            " [ 91.22412  ]\n",
            " [ 92.23806  ]\n",
            " [ 93.25202  ]\n",
            " [ 94.26597  ]\n",
            " [ 95.27991  ]\n",
            " [ 96.29386  ]\n",
            " [ 97.3078   ]\n",
            " [ 98.32175  ]\n",
            " [ 99.33569  ]\n",
            " [100.34964  ]]\n"
          ]
        }
      ]
    },
    {
      "cell_type": "code",
      "source": [
        "plt.figure(figsize=(10,5))\n",
        "plt.plot(range(window_size,len(sequence)),y,label='actual')\n",
        "plt.plot(range(window_size,len(sequence)),y_pred.flatten(),label='predicted',linestyle='--')\n",
        "plt.title('time series prediction')\n",
        "plt.xlabel('time stamp')\n",
        "plt.ylabel('value')\n",
        "plt.legend()\n",
        "plt.grid(True)\n",
        "plt.show()"
      ],
      "metadata": {
        "colab": {
          "base_uri": "https://localhost:8080/",
          "height": 487
        },
        "id": "BWLvfhPIBgn5",
        "outputId": "6c8f9fd2-c209-463f-e1ff-c6a994ced95e"
      },
      "execution_count": 31,
      "outputs": [
        {
          "output_type": "display_data",
          "data": {
            "text/plain": [
              "<Figure size 1000x500 with 1 Axes>"
            ],
            "image/png": "[encoded data removed]"
          },
          "metadata": {}
        }
      ]
    }
  ]
}